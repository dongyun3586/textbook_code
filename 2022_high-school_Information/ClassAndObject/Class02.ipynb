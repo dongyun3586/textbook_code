{
 "cells": [
  {
   "cell_type": "code",
   "execution_count": 17,
   "metadata": {
    "collapsed": true
   },
   "outputs": [],
   "source": [
    "class Book:\n",
    "    title = \"데미안\"\n",
    "    author = \"헤르만 헤세\"\n",
    "    year = 1919"
   ]
  },
  {
   "cell_type": "code",
   "execution_count": 18,
   "outputs": [
    {
     "data": {
      "text/plain": "'데미안'"
     },
     "execution_count": 18,
     "metadata": {},
     "output_type": "execute_result"
    }
   ],
   "source": [
    "book1 = Book()\n",
    "book1.title"
   ],
   "metadata": {
    "collapsed": false
   }
  },
  {
   "cell_type": "code",
   "execution_count": 19,
   "outputs": [
    {
     "name": "stdout",
     "output_type": "stream",
     "text": [
      "데미안 헤르만 헤세 1919\n"
     ]
    }
   ],
   "source": [
    "b1 = Book()\n",
    "print(b1.title, b1.author, b1.year)"
   ],
   "metadata": {
    "collapsed": false
   }
  },
  {
   "cell_type": "code",
   "execution_count": 9,
   "outputs": [],
   "source": [
    "book1.title = \"사피엔스\""
   ],
   "metadata": {
    "collapsed": false
   }
  },
  {
   "cell_type": "code",
   "execution_count": 10,
   "outputs": [
    {
     "data": {
      "text/plain": "'사피엔스'"
     },
     "execution_count": 10,
     "metadata": {},
     "output_type": "execute_result"
    }
   ],
   "source": [
    "book1.title"
   ],
   "metadata": {
    "collapsed": false
   }
  },
  {
   "cell_type": "code",
   "execution_count": 20,
   "outputs": [
    {
     "name": "stdout",
     "output_type": "stream",
     "text": [
      "톰 소여의 모험 마크 트웨인 1876\n"
     ]
    }
   ],
   "source": [
    "b1.title = \"톰 소여의 모험\"\n",
    "b1.author = \"마크 트웨인\"\n",
    "b1.year = 1876\n",
    "print(b1.title, b1.author, b1.year)"
   ],
   "metadata": {
    "collapsed": false
   }
  },
  {
   "cell_type": "code",
   "execution_count": 65,
   "outputs": [],
   "source": [
    "class Book:\n",
    "    def __init__(self, title, author, year):\n",
    "        self.title =  title\n",
    "        self.author = author\n",
    "        self.year = year"
   ],
   "metadata": {
    "collapsed": false
   }
  },
  {
   "cell_type": "code",
   "execution_count": 66,
   "outputs": [
    {
     "name": "stdout",
     "output_type": "stream",
     "text": [
      "톰 소여의 모험 마크 트웨인 1876\n",
      "데미안 헤르만 헤세 1919\n"
     ]
    }
   ],
   "source": [
    "b1 = Book(\"톰 소여의 모험\", \"마크 트웨인\", 1876)\n",
    "b2 = Book(\"데미안\", \"헤르만 헤세\", 1919)\n",
    "\n",
    "print(b1.title, b1.author, b1.year)\n",
    "print(b2.title, b2.author, b2.year)"
   ],
   "metadata": {
    "collapsed": false
   }
  },
  {
   "cell_type": "code",
   "execution_count": 67,
   "outputs": [
    {
     "ename": "AttributeError",
     "evalue": "'Book' object has no attribute 'year'",
     "output_type": "error",
     "traceback": [
      "\u001B[1;31m---------------------------------------------------------------------------\u001B[0m",
      "\u001B[1;31mAttributeError\u001B[0m                            Traceback (most recent call last)",
      "Cell \u001B[1;32mIn[67], line 3\u001B[0m\n\u001B[0;32m      1\u001B[0m b1 \u001B[38;5;241m=\u001B[39m Book(\u001B[38;5;124m\"\u001B[39m\u001B[38;5;124m톰 소여의 모험\u001B[39m\u001B[38;5;124m\"\u001B[39m, \u001B[38;5;124m\"\u001B[39m\u001B[38;5;124m마크 트웨인\u001B[39m\u001B[38;5;124m\"\u001B[39m, \u001B[38;5;241m1876\u001B[39m)\n\u001B[0;32m      2\u001B[0m \u001B[38;5;28;01mdel\u001B[39;00m b1\u001B[38;5;241m.\u001B[39myear\n\u001B[1;32m----> 3\u001B[0m \u001B[38;5;28mprint\u001B[39m(\u001B[43mb1\u001B[49m\u001B[38;5;241;43m.\u001B[39;49m\u001B[43myear\u001B[49m)\n",
      "\u001B[1;31mAttributeError\u001B[0m: 'Book' object has no attribute 'year'"
     ]
    }
   ],
   "source": [
    "b1 = Book(\"톰 소여의 모험\", \"마크 트웨인\", 1876)\n",
    "del b1.year\n",
    "print(b1.year)"
   ],
   "metadata": {
    "collapsed": false
   }
  },
  {
   "cell_type": "code",
   "execution_count": 68,
   "outputs": [
    {
     "ename": "NameError",
     "evalue": "name 'b2' is not defined",
     "output_type": "error",
     "traceback": [
      "\u001B[1;31m---------------------------------------------------------------------------\u001B[0m",
      "\u001B[1;31mNameError\u001B[0m                                 Traceback (most recent call last)",
      "Cell \u001B[1;32mIn[68], line 3\u001B[0m\n\u001B[0;32m      1\u001B[0m b2 \u001B[38;5;241m=\u001B[39m Book(\u001B[38;5;124m\"\u001B[39m\u001B[38;5;124m데미안\u001B[39m\u001B[38;5;124m\"\u001B[39m, \u001B[38;5;124m\"\u001B[39m\u001B[38;5;124m헤르만 헤세\u001B[39m\u001B[38;5;124m\"\u001B[39m, \u001B[38;5;241m1919\u001B[39m)\n\u001B[0;32m      2\u001B[0m \u001B[38;5;28;01mdel\u001B[39;00m b2\n\u001B[1;32m----> 3\u001B[0m \u001B[38;5;28mprint\u001B[39m(\u001B[43mb2\u001B[49m)\n",
      "\u001B[1;31mNameError\u001B[0m: name 'b2' is not defined"
     ]
    }
   ],
   "source": [
    "b2 = Book(\"데미안\", \"헤르만 헤세\", 1919)\n",
    "del b2\n",
    "print(b2)"
   ],
   "metadata": {
    "collapsed": false
   }
  },
  {
   "cell_type": "code",
   "execution_count": 69,
   "outputs": [],
   "source": [
    "class Book:\n",
    "    def __init__(self, title, author, year, price):\n",
    "        self.title =  title\n",
    "        self.author = author\n",
    "        self.year = year\n",
    "        self.__price = price"
   ],
   "metadata": {
    "collapsed": false
   }
  },
  {
   "cell_type": "code",
   "execution_count": 61,
   "outputs": [],
   "source": [
    "class Book:\n",
    "    def __init__(self, title, author, year, price):\n",
    "        self.title =  title\n",
    "        self.author = author\n",
    "        self.year = year\n",
    "        self.__price = price\n",
    "\n",
    "    def __repr__(self):\n",
    "        return f\"Book: {self.title}, Author: {self.author}, Year: {self.year}\"\n",
    "\n",
    "    def __hello(self):\n",
    "        print(\"Hello\")\n",
    "\n",
    "    def hi(self):\n",
    "        self.__hello()"
   ],
   "metadata": {
    "collapsed": false
   }
  },
  {
   "cell_type": "code",
   "execution_count": 62,
   "outputs": [
    {
     "data": {
      "text/plain": "Book: Americanah, Author:  Chimamanda Adichie, Year: 2016"
     },
     "execution_count": 62,
     "metadata": {},
     "output_type": "execute_result"
    }
   ],
   "source": [
    "book1 = Book(\"Americanah\", \" Chimamanda Adichie\", 2016, 6000)\n",
    "book1"
   ],
   "metadata": {
    "collapsed": false
   }
  },
  {
   "cell_type": "code",
   "execution_count": 63,
   "outputs": [
    {
     "name": "stdout",
     "output_type": "stream",
     "text": [
      "Book: Americanah, Author:  Chimamanda Adichie, Year: 2016\n"
     ]
    }
   ],
   "source": [
    "print(book1)"
   ],
   "metadata": {
    "collapsed": false
   }
  },
  {
   "cell_type": "code",
   "execution_count": 55,
   "outputs": [
    {
     "name": "stdout",
     "output_type": "stream",
     "text": [
      "Stay with me\n",
      "Ayobami Adebayo\n",
      "2017\n"
     ]
    }
   ],
   "source": [
    "# instantiating a new object\n",
    "book1 = Book(\"Americanah\", \" Chimamanda Adichie\", 2016, 6000)\n",
    "book2 = Book(\"Teller of secrets\", \"Bisi Adjapon\", 2021, 5000)\n",
    "book3 = Book(\"Stay with me\", \"Ayobami Adebayo\", 2017, 4000)\n",
    "\n",
    "print(book3.title)\n",
    "print(book3.author)\n",
    "print(book3.year)"
   ],
   "metadata": {
    "collapsed": false
   }
  },
  {
   "cell_type": "code",
   "execution_count": 56,
   "outputs": [
    {
     "name": "stdout",
     "output_type": "stream",
     "text": [
      "Hello\n"
     ]
    }
   ],
   "source": [
    "book1.hi()"
   ],
   "metadata": {
    "collapsed": false
   }
  },
  {
   "cell_type": "code",
   "execution_count": 8,
   "outputs": [],
   "source": [
    "from datetime import date\n",
    "\n",
    "class Book:\n",
    "    def __init__(self, title, author, publish_year):\n",
    "        self.title =  title\n",
    "        self.author = author\n",
    "        self.publish_year = publish_year\n",
    "\n",
    "    def get_title(self):\n",
    "        return self.title\n",
    "\n",
    "    def get_years_since_publication(self):\n",
    "        current_year = date.today().year\n",
    "        return current_year - self.publish_year"
   ],
   "metadata": {
    "collapsed": false
   }
  },
  {
   "cell_type": "code",
   "execution_count": 9,
   "outputs": [
    {
     "name": "stdout",
     "output_type": "stream",
     "text": [
      "104\n"
     ]
    }
   ],
   "source": [
    "book = Book(\"데미안\", \"헤르만 헤세\", 1919)\n",
    "print(book.get_years_since_publication())"
   ],
   "metadata": {
    "collapsed": false
   }
  },
  {
   "cell_type": "code",
   "execution_count": 34,
   "outputs": [
    {
     "ename": "NameError",
     "evalue": "name 'book1' is not defined",
     "output_type": "error",
     "traceback": [
      "\u001B[1;31m---------------------------------------------------------------------------\u001B[0m",
      "\u001B[1;31mNameError\u001B[0m                                 Traceback (most recent call last)",
      "Cell \u001B[1;32mIn[34], line 1\u001B[0m\n\u001B[1;32m----> 1\u001B[0m \u001B[43mbook1\u001B[49m\u001B[38;5;241m.\u001B[39mtitle\n",
      "\u001B[1;31mNameError\u001B[0m: name 'book1' is not defined"
     ]
    }
   ],
   "source": [
    "book1.title"
   ],
   "metadata": {
    "collapsed": false
   }
  },
  {
   "cell_type": "code",
   "execution_count": 36,
   "outputs": [
    {
     "data": {
      "text/plain": "'Teller of secrets'"
     },
     "execution_count": 36,
     "metadata": {},
     "output_type": "execute_result"
    }
   ],
   "source": [
    "book2.title"
   ],
   "metadata": {
    "collapsed": false
   }
  },
  {
   "cell_type": "code",
   "execution_count": 37,
   "outputs": [],
   "source": [
    "del book2.title"
   ],
   "metadata": {
    "collapsed": false
   }
  },
  {
   "cell_type": "code",
   "execution_count": 39,
   "outputs": [
    {
     "ename": "AttributeError",
     "evalue": "'Book' object has no attribute 'title'",
     "output_type": "error",
     "traceback": [
      "\u001B[1;31m---------------------------------------------------------------------------\u001B[0m",
      "\u001B[1;31mAttributeError\u001B[0m                            Traceback (most recent call last)",
      "Cell \u001B[1;32mIn[39], line 1\u001B[0m\n\u001B[1;32m----> 1\u001B[0m \u001B[43mbook2\u001B[49m\u001B[38;5;241;43m.\u001B[39;49m\u001B[43mtitle\u001B[49m\n",
      "\u001B[1;31mAttributeError\u001B[0m: 'Book' object has no attribute 'title'"
     ]
    }
   ],
   "source": [
    "book2.title"
   ],
   "metadata": {
    "collapsed": false
   }
  },
  {
   "cell_type": "code",
   "execution_count": 40,
   "outputs": [
    {
     "data": {
      "text/plain": "'Stay with me'"
     },
     "execution_count": 40,
     "metadata": {},
     "output_type": "execute_result"
    }
   ],
   "source": [
    "book3.title"
   ],
   "metadata": {
    "collapsed": false
   }
  },
  {
   "cell_type": "code",
   "execution_count": 41,
   "outputs": [
    {
     "ename": "TypeError",
     "evalue": "Book.__init__() missing 1 required positional argument: 'price'",
     "output_type": "error",
     "traceback": [
      "\u001B[1;31m---------------------------------------------------------------------------\u001B[0m",
      "\u001B[1;31mTypeError\u001B[0m                                 Traceback (most recent call last)",
      "Cell \u001B[1;32mIn[41], line 1\u001B[0m\n\u001B[1;32m----> 1\u001B[0m b1 \u001B[38;5;241m=\u001B[39m \u001B[43mBook\u001B[49m\u001B[43m(\u001B[49m\u001B[38;5;124;43m\"\u001B[39;49m\u001B[38;5;124;43m톰 소여의 모험\u001B[39;49m\u001B[38;5;124;43m\"\u001B[39;49m\u001B[43m,\u001B[49m\u001B[43m \u001B[49m\u001B[38;5;124;43m\"\u001B[39;49m\u001B[38;5;124;43m마크 트웨인\u001B[39;49m\u001B[38;5;124;43m\"\u001B[39;49m\u001B[43m,\u001B[49m\u001B[43m \u001B[49m\u001B[38;5;241;43m1876\u001B[39;49m\u001B[43m)\u001B[49m\n\u001B[0;32m      2\u001B[0m \u001B[38;5;28;01mdel\u001B[39;00m b1\u001B[38;5;241m.\u001B[39myear\n\u001B[0;32m      3\u001B[0m \u001B[38;5;28mprint\u001B[39m(b1\u001B[38;5;241m.\u001B[39myear)\n",
      "\u001B[1;31mTypeError\u001B[0m: Book.__init__() missing 1 required positional argument: 'price'"
     ]
    }
   ],
   "source": [],
   "metadata": {
    "collapsed": false
   }
  },
  {
   "cell_type": "code",
   "execution_count": 2,
   "outputs": [],
   "source": [
    "class Person:\n",
    "    bag=[]"
   ],
   "metadata": {
    "collapsed": false
   }
  },
  {
   "cell_type": "code",
   "execution_count": 3,
   "outputs": [],
   "source": [
    "Person.bag.append('a')"
   ],
   "metadata": {
    "collapsed": false
   }
  },
  {
   "cell_type": "code",
   "execution_count": 4,
   "outputs": [
    {
     "data": {
      "text/plain": "['a']"
     },
     "execution_count": 4,
     "metadata": {},
     "output_type": "execute_result"
    }
   ],
   "source": [
    "Person.bag"
   ],
   "metadata": {
    "collapsed": false
   }
  },
  {
   "cell_type": "code",
   "execution_count": null,
   "outputs": [],
   "source": [],
   "metadata": {
    "collapsed": false
   }
  }
 ],
 "metadata": {
  "kernelspec": {
   "display_name": "Python 3",
   "language": "python",
   "name": "python3"
  },
  "language_info": {
   "codemirror_mode": {
    "name": "ipython",
    "version": 2
   },
   "file_extension": ".py",
   "mimetype": "text/x-python",
   "name": "python",
   "nbconvert_exporter": "python",
   "pygments_lexer": "ipython2",
   "version": "2.7.6"
  }
 },
 "nbformat": 4,
 "nbformat_minor": 0
}
