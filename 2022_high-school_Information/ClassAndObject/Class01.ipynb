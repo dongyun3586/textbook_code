{
 "cells": [
  {
   "cell_type": "code",
   "execution_count": 5,
   "metadata": {
    "collapsed": true
   },
   "outputs": [
    {
     "name": "stdout",
     "output_type": "stream",
     "text": [
      "사각형1 넓이: 50 사각형1 둘레: 30\n",
      "사각형2 넓이: 21 사각형2 둘레: 20\n"
     ]
    }
   ],
   "source": [
    "def area(width, height):\n",
    "    return width * height\n",
    "\n",
    "def perimeter(width, height):\n",
    "    return 2 * (width + height)\n",
    "\n",
    "w1, h1 = 5, 10\n",
    "print(f\"사각형1 넓이: {area(w1, h1)}\", end=' ')\n",
    "print(f\"사각형1 둘레: {perimeter(w1, h1)}\")\n",
    "\n",
    "w2, h2 = 3, 7\n",
    "print(f\"사각형2 넓이: {area(w2, h2)}\", end=' ')\n",
    "print(f\"사각형2 둘레: {perimeter(w2, h2)}\")"
   ]
  },
  {
   "cell_type": "code",
   "execution_count": 6,
   "outputs": [
    {
     "name": "stdout",
     "output_type": "stream",
     "text": [
      "사각형1 넓이: 50 사각형1 둘레: 30\n",
      "사각형2 넓이: 21 사각형2 둘레: 20\n"
     ]
    }
   ],
   "source": [
    "class Rectangle:\n",
    "    def __init__(self, width, height):\n",
    "        self.width = width\n",
    "        self.height = height\n",
    "\n",
    "    def area(self):\n",
    "        return self.width * self.height\n",
    "\n",
    "    def perimeter(self):\n",
    "        return 2 * (self.width + self.height)\n",
    "\n",
    "r1 = Rectangle(5, 10)\n",
    "print(f\"사각형1 넓이: {r1.area()}\", end=' ')\n",
    "print(f\"사각형1 둘레: {r1.perimeter()}\")\n",
    "\n",
    "r2 = Rectangle(3, 7)\n",
    "print(f\"사각형2 넓이: {r2.area()}\", end=' ')\n",
    "print(f\"사각형2 둘레: {r2.perimeter()}\")"
   ],
   "metadata": {
    "collapsed": false
   }
  },
  {
   "cell_type": "code",
   "execution_count": null,
   "outputs": [],
   "source": [],
   "metadata": {
    "collapsed": false
   }
  }
 ],
 "metadata": {
  "kernelspec": {
   "display_name": "Python 3",
   "language": "python",
   "name": "python3"
  },
  "language_info": {
   "codemirror_mode": {
    "name": "ipython",
    "version": 2
   },
   "file_extension": ".py",
   "mimetype": "text/x-python",
   "name": "python",
   "nbconvert_exporter": "python",
   "pygments_lexer": "ipython2",
   "version": "2.7.6"
  }
 },
 "nbformat": 4,
 "nbformat_minor": 0
}
