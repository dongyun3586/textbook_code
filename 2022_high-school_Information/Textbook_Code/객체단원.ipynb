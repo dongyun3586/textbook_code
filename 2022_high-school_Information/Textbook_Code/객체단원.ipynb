{
 "cells": [
  {
   "cell_type": "code",
   "execution_count": 1,
   "metadata": {
    "collapsed": true,
    "ExecuteTime": {
     "start_time": "2023-06-12T10:44:08.008722Z",
     "end_time": "2023-06-12T10:44:08.021092Z"
    }
   },
   "outputs": [
    {
     "name": "stdout",
     "output_type": "stream",
     "text": [
      "도서명 저자 0\n",
      "톰 소여의 모험 마크 트웨인 1876\n"
     ]
    }
   ],
   "source": [
    "class Book:\n",
    "    title = \"도서명\"\n",
    "    author = \"저자\"\n",
    "    year = 0\n",
    "\n",
    "b1 = Book()  # Book 클래스의 객체(인스턴스)생성\n",
    "print(b1.title, b1.author, b1.year)\n",
    "\n",
    "b1.title = \"톰 소여의 모험\"\n",
    "b1.author = \"마크 트웨인\"\n",
    "b1.year = 1876\n",
    "print(b1.title, b1.author, b1.year)"
   ]
  },
  {
   "cell_type": "code",
   "execution_count": 2,
   "outputs": [
    {
     "name": "stdout",
     "output_type": "stream",
     "text": [
      "톰 소여의 모험 마크 트웨인 1876\n",
      "데미안 헤르만 헤세 1919\n"
     ]
    }
   ],
   "source": [
    "class Book:\n",
    "    def __init__(self, title, author, year):\n",
    "        self.title =  title\n",
    "        self.author = author\n",
    "        self.year = year\n",
    "\n",
    "b1 = Book(\"톰 소여의 모험\", \"마크 트웨인\", 1876)\n",
    "b2 = Book(\"데미안\", \"헤르만 헤세\", 1919)\n",
    "\n",
    "print(b1.title, b1.author, b1.year)\n",
    "print(b2.title, b2.author, b2.year)"
   ],
   "metadata": {
    "collapsed": false,
    "ExecuteTime": {
     "start_time": "2023-06-12T10:44:10.646198Z",
     "end_time": "2023-06-12T10:44:10.678597Z"
    }
   }
  },
  {
   "cell_type": "code",
   "execution_count": 5,
   "outputs": [
    {
     "name": "stdout",
     "output_type": "stream",
     "text": [
      "104\n"
     ]
    }
   ],
   "source": [
    "from datetime import date\n",
    "\n",
    "class Book:\n",
    "    def __init__(self, title, author, publish_year):\n",
    "        self.title =  title\n",
    "        self.author = author\n",
    "        self.publish_year = publish_year\n",
    "\n",
    "    # 책 제목을 반환하는 메소드\n",
    "    def get_title(self):\n",
    "        return self.title\n",
    "\n",
    "    # 책이 출판된지 몇 년이 지났는지를 반환하는 메소드\n",
    "    def get_years_since_publication(self):\n",
    "        current_year = date.today().year\n",
    "        return current_year - self.publish_year\n",
    "\n",
    "book = Book(\"데미안\", \"헤르만 헤세\", 1919)\n",
    "print(book.get_years_since_publication())"
   ],
   "metadata": {
    "collapsed": false,
    "ExecuteTime": {
     "start_time": "2023-06-12T10:44:57.216303Z",
     "end_time": "2023-06-12T10:44:57.222882Z"
    }
   }
  },
  {
   "cell_type": "code",
   "execution_count": 26,
   "outputs": [
    {
     "name": "stdout",
     "output_type": "stream",
     "text": [
      "104\n"
     ]
    }
   ],
   "source": [
    "from datetime import date\n",
    "\n",
    "class Book:\n",
    "    def __init__(self, title, author, publish_year):\n",
    "        self.title =  title\n",
    "        self.author = author\n",
    "        self.publish_year = publish_year\n",
    "\n",
    "    # 책 제목을 반환하는 메소드\n",
    "    def get_title(self):\n",
    "        return self.title\n",
    "\n",
    "    # 책이 출판된지 몇 년이 지났는지를 반환하는 메소드\n",
    "    def get_years_since_publication(self):\n",
    "        current_year = date.today().year\n",
    "        return current_year - self.publish_year\n",
    "\n",
    "    def __repr__(self):\n",
    "        return f\"Book{self.title, self.author, self.publish_year}\"\n",
    "\n",
    "    def __str__(self):\n",
    "        return f\"{self.title, self.author, self.publish_year}\"\n",
    "\n",
    "book = Book(\"데미안\", \"헤르만 헤세\", 1919)\n",
    "print(book.get_years_since_publication())"
   ],
   "metadata": {
    "collapsed": false,
    "ExecuteTime": {
     "start_time": "2023-06-12T11:30:09.957803Z",
     "end_time": "2023-06-12T11:30:09.982489Z"
    }
   }
  },
  {
   "cell_type": "code",
   "execution_count": 28,
   "outputs": [
    {
     "data": {
      "text/plain": "Book('데미안', '헤르만 헤세', 1919)"
     },
     "execution_count": 28,
     "metadata": {},
     "output_type": "execute_result"
    }
   ],
   "source": [
    "book"
   ],
   "metadata": {
    "collapsed": false,
    "ExecuteTime": {
     "start_time": "2023-06-12T11:30:18.263231Z",
     "end_time": "2023-06-12T11:30:18.275991Z"
    }
   }
  },
  {
   "cell_type": "code",
   "execution_count": 24,
   "outputs": [
    {
     "name": "stdout",
     "output_type": "stream",
     "text": [
      "('데미안', '헤르만 헤세', 1919)\n"
     ]
    }
   ],
   "source": [
    "print(book)"
   ],
   "metadata": {
    "collapsed": false,
    "ExecuteTime": {
     "start_time": "2023-06-12T11:28:20.502960Z",
     "end_time": "2023-06-12T11:28:20.512473Z"
    }
   }
  },
  {
   "cell_type": "code",
   "execution_count": 11,
   "outputs": [
    {
     "ename": "TypeError",
     "evalue": "object of type 'Book' has no len()",
     "output_type": "error",
     "traceback": [
      "\u001B[1;31m---------------------------------------------------------------------------\u001B[0m",
      "\u001B[1;31mTypeError\u001B[0m                                 Traceback (most recent call last)",
      "Cell \u001B[1;32mIn[11], line 1\u001B[0m\n\u001B[1;32m----> 1\u001B[0m \u001B[38;5;28;43mlen\u001B[39;49m\u001B[43m(\u001B[49m\u001B[43mbook\u001B[49m\u001B[43m)\u001B[49m\n",
      "\u001B[1;31mTypeError\u001B[0m: object of type 'Book' has no len()"
     ]
    }
   ],
   "source": [
    "len(book)"
   ],
   "metadata": {
    "collapsed": false
   }
  },
  {
   "cell_type": "code",
   "execution_count": 12,
   "outputs": [
    {
     "ename": "NameError",
     "evalue": "name 'add' is not defined",
     "output_type": "error",
     "traceback": [
      "\u001B[1;31m---------------------------------------------------------------------------\u001B[0m",
      "\u001B[1;31mNameError\u001B[0m                                 Traceback (most recent call last)",
      "Cell \u001B[1;32mIn[12], line 1\u001B[0m\n\u001B[1;32m----> 1\u001B[0m \u001B[43madd\u001B[49m(book)\n",
      "\u001B[1;31mNameError\u001B[0m: name 'add' is not defined"
     ]
    }
   ],
   "source": [
    "add(book)"
   ],
   "metadata": {
    "collapsed": false
   }
  },
  {
   "cell_type": "code",
   "execution_count": 13,
   "outputs": [],
   "source": [
    "class Point2D:\n",
    "    def __init__(self, x, y):\n",
    "        self.x = x\n",
    "        self.y = y"
   ],
   "metadata": {
    "collapsed": false,
    "ExecuteTime": {
     "start_time": "2023-06-12T11:11:59.407378Z",
     "end_time": "2023-06-12T11:11:59.420227Z"
    }
   }
  },
  {
   "cell_type": "code",
   "execution_count": 18,
   "outputs": [],
   "source": [
    "import math\n",
    "import matplotlib.pyplot as plt\n",
    "\n",
    "class LinearGraph:\n",
    "    def __init__(self):\n",
    "        self.points = []\n",
    "        self.length = 0.0\n",
    "\n",
    "    # 선형 그래프를 그리는 메소드\n",
    "    def draw_linear_graph(self):\n",
    "        x, y = [], []\n",
    "        for i in self.points:\n",
    "            x.append(i.x)\n",
    "            y.append(i.y)\n",
    "        plt.plot(x, y)\n",
    "        plt.xlabel('x')\n",
    "        plt.ylabel('y')\n",
    "        plt.show()\n",
    "\n",
    "    # 좌표 간의 총거리를 계산하는 메소드\n",
    "    def calculate_distance(self):\n",
    "        for i in range(len(self.points) - 1):\n",
    "            a = abs(self.points[i].x - self.points[i + 1].x)\n",
    "            b = abs(self.points[i].y - self.points[i + 1].y)\n",
    "            c = math.sqrt((a * a) + (b * b))\n",
    "            self.length += c\n",
    "        print('모든 좌표 간의 거리: ', self.length)\n",
    "\n",
    "    def __len__(self):\n",
    "        return len(self.points)"
   ],
   "metadata": {
    "collapsed": false,
    "ExecuteTime": {
     "start_time": "2023-06-12T11:12:45.796372Z",
     "end_time": "2023-06-12T11:12:45.813069Z"
    }
   }
  },
  {
   "cell_type": "code",
   "execution_count": 20,
   "outputs": [
    {
     "data": {
      "text/plain": "<Figure size 640x480 with 1 Axes>",
      "image/png": "[encoded data removed]"
     },
     "metadata": {},
     "output_type": "display_data"
    },
    {
     "name": "stdout",
     "output_type": "stream",
     "text": [
      "모든 좌표 간의 거리:  50.0\n"
     ]
    }
   ],
   "source": [
    "graph = LinearGraph()\n",
    "n = int(input(\"2차원 좌표의 개수 입력: \"))\n",
    "\n",
    "for i in range(n):\n",
    "    x, y = map(int, input(\"x y 좌표 입력: \").split())\n",
    "    graph.points.append(Point2D(x, y))\n",
    "\n",
    "# 모든 좌표를 연결하는 그래프 출력\n",
    "graph.draw_linear_graph()\n",
    "\n",
    "# 모든 좌표의 거리 계산\n",
    "graph.calculate_distance()"
   ],
   "metadata": {
    "collapsed": false,
    "ExecuteTime": {
     "start_time": "2023-06-12T11:12:53.555405Z",
     "end_time": "2023-06-12T11:13:04.923684Z"
    }
   }
  },
  {
   "cell_type": "code",
   "execution_count": 21,
   "outputs": [
    {
     "data": {
      "text/plain": "2"
     },
     "execution_count": 21,
     "metadata": {},
     "output_type": "execute_result"
    }
   ],
   "source": [
    "len(graph)"
   ],
   "metadata": {
    "collapsed": false,
    "ExecuteTime": {
     "start_time": "2023-06-12T11:13:06.041486Z",
     "end_time": "2023-06-12T11:13:06.048627Z"
    }
   }
  },
  {
   "cell_type": "code",
   "execution_count": null,
   "outputs": [],
   "source": [],
   "metadata": {
    "collapsed": false
   }
  }
 ],
 "metadata": {
  "kernelspec": {
   "display_name": "Python 3",
   "language": "python",
   "name": "python3"
  },
  "language_info": {
   "codemirror_mode": {
    "name": "ipython",
    "version": 2
   },
   "file_extension": ".py",
   "mimetype": "text/x-python",
   "name": "python",
   "nbconvert_exporter": "python",
   "pygments_lexer": "ipython2",
   "version": "2.7.6"
  }
 },
 "nbformat": 4,
 "nbformat_minor": 0
}
